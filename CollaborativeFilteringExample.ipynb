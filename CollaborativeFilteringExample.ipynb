{
 "cells": [
  {
   "cell_type": "code",
   "execution_count": 1,
   "metadata": {},
   "outputs": [],
   "source": [
    "import numpy as np\n",
    "import pandas as pd\n",
    "import pymongo\n",
    "#from pymongo import MongoClient\n",
    "#client = MongoClient()\n",
    "#db = client.imdb\n",
    "import scipy\n",
    "from scipy.stats import pearsonr\n",
    "from sklearn.preprocessing import normalize\n",
    "import math"
   ]
  },
  {
   "cell_type": "code",
   "execution_count": 2,
   "metadata": {},
   "outputs": [],
   "source": [
    "#scores = pd.read_csv('ml-20m/genome-scores.csv')\n",
    "#g_tags = pd.read_csv('ml-20m/genome-tags.csv')\n",
    "#links = pd.read_csv('ml-20m/links.csv')\n",
    "#movies = pd.read_csv('ml-20m/movies.csv')\n",
    "ratings = pd.read_csv('ml-20m/ratings.csv')\n",
    "#tags = pd.read_csv('ml-20m/tags.csv')"
   ]
  },
  {
   "cell_type": "code",
   "execution_count": 3,
   "metadata": {},
   "outputs": [],
   "source": [
    "user_ratings = ratings.groupby('userId')"
   ]
  },
  {
   "cell_type": "code",
   "execution_count": 4,
   "metadata": {},
   "outputs": [],
   "source": [
    "user_ratings = {}\n",
    "for k, v in ratings.groupby('userId'):\n",
    "    user_ratings[k] = dict(zip(v['movieId'].values, v['rating'].values))\n",
    "user_ratings_test = dict(list(user_ratings.items())[:1000])"
   ]
  },
  {
   "cell_type": "code",
   "execution_count": 5,
   "metadata": {},
   "outputs": [],
   "source": [
    "class userUserBasedCF(object):\n",
    "    def __init__(self, dataset):\n",
    "        self.dataset = dataset\n",
    "        self.means = {}\n",
    "        for user, user_ratings in self.dataset.items():\n",
    "            mean = np.mean(np.array(list(user_ratings.values())))\n",
    "            self.means[user] = mean\n",
    "\n",
    "    def pearson_correlation(self, user1, user2):\n",
    "        \"\"\"\n",
    "        user1, user2: dictionaries\n",
    "        \"\"\"\n",
    "        common_movies = sorted(set(user1).intersection(set(user2)))\n",
    "        if len(common_movies) != 0 and len(common_movies) != 1:\n",
    "            user1_ratings = np.squeeze(normalize(np.array([user1[movie] for movie in common_movies])[np.newaxis, :]))\n",
    "            user2_ratings = np.squeeze(normalize(np.array([user2[movie] for movie in common_movies])[np.newaxis, :]))\n",
    "            corr = pearsonr(user1_ratings, user2_ratings)[0]\n",
    "        else:\n",
    "            corr = 0\n",
    "            #print(\"No common movies\")\n",
    "        return corr\n",
    "    \n",
    "    def knn(self, user, k):\n",
    "        \"\"\"\n",
    "        user: user_id\n",
    "        k: number of KNN\n",
    "        \"\"\"\n",
    "        neighbours={}\n",
    "        i = 0\n",
    "        for user_id, user_data in self.dataset.items():\n",
    "            if user_id == user:\n",
    "                continue\n",
    "            corr = self.pearson_correlation(self.dataset[user], user_data)\n",
    "            neighbours[user_id] = corr\n",
    "            i+=1\n",
    "        sort = sorted(neighbours.items(), key=lambda x: x[1], reverse = True)\n",
    "        knn = sort[:k]\n",
    "        knn_user_ids = [user_id for user_id, user_corr in knn]\n",
    "        print(\"KNN\")\n",
    "        return knn_user_ids\n",
    "    \n",
    "    def predict(self, user, movie_id, knn):\n",
    "        \"\"\"\n",
    "        user: user_id\n",
    "        movie_id: movie_id\n",
    "        knn: knn_user_ids\n",
    "        \n",
    "        prediction = mean_rating_of_active_user + sum_over_knn(user_rating_for_i * pearson(user, active_user))/sum_over_knn(pearson(user, active_user))\n",
    "        \"\"\"\n",
    "        mean_user_rating = self.means[user]\n",
    "        print(\"Mean user rating for the user is \", mean_user_rating)\n",
    "        iter_rating = 0.0\n",
    "        pear_corr = 0.0\n",
    "        for i, element in enumerate(knn):\n",
    "            temp_corr = self.pearson_correlation(self.dataset[user], self.dataset[element])\n",
    "            if math.isnan(temp_corr):\n",
    "                continue\n",
    "            if movie_id in self.dataset[element].keys():\n",
    "                iter_rating += (self.dataset[element][movie_id]-self.means[element]) * temp_corr\n",
    "            else:\n",
    "                iter_rating += 0\n",
    "            pear_corr += temp_corr\n",
    "            \n",
    "        pred = mean_user_rating + iter_rating/pear_corr\n",
    "        return pred    "
   ]
  },
  {
   "cell_type": "code",
   "execution_count": 6,
   "metadata": {},
   "outputs": [],
   "source": [
    "cf = userUserBasedCF(user_ratings_test)"
   ]
  },
  {
   "cell_type": "code",
   "execution_count": 7,
   "metadata": {},
   "outputs": [
    {
     "name": "stdout",
     "output_type": "stream",
     "text": [
      "KNN\n",
      "Mean user rating for the user is  4.122994652406417\n"
     ]
    },
    {
     "data": {
      "text/plain": [
       "4.1009405506072"
      ]
     },
     "execution_count": 7,
     "metadata": {},
     "output_type": "execute_result"
    }
   ],
   "source": [
    "import warnings\n",
    "warnings.filterwarnings('ignore')\n",
    "knn = cf.knn(3, 100)\n",
    "cf.predict(3, 45, knn)"
   ]
  },
  {
   "cell_type": "code",
   "execution_count": null,
   "metadata": {},
   "outputs": [],
   "source": [
    "item_ratings = {}\n",
    "for k, v in ratings.groupby('movieId'):\n",
    "    item_ratings[k] = dict(zip(v['userId'].values, v['rating'].values))"
   ]
  },
  {
   "cell_type": "code",
   "execution_count": 139,
   "metadata": {},
   "outputs": [],
   "source": [
    "class itemItemBasedCF(object):\n",
    "    def __init__(self, dataset):\n",
    "        self.dataset = dataset\n",
    "        self.means = {}\n",
    "        for user, user_ratings in self.dataset.items():\n",
    "            mean = np.mean(np.array(list(user_ratings.values())))\n",
    "            self.means[user] = mean\n",
    "\n",
    "    def pearson_correlation(self, item1, item2):\n",
    "        \"\"\"\n",
    "        item1, item2: dictionaries\n",
    "        \"\"\"\n",
    "        common_users = sorted(set(item1).intersection(set(item2)))\n",
    "        if len(common_users) != 0 and len(common_users) != 1:\n",
    "            item1_ratings = np.squeeze(normalize(np.array([item1[user] for user in common_users])[np.newaxis, :]))\n",
    "            item2_ratings = np.squeeze(normalize(np.array([item2[user] for user in common_users])[np.newaxis, :]))\n",
    "            corr = pearsonr(item1_ratings, item2_ratings)[0]\n",
    "        else:\n",
    "            corr = 0\n",
    "        return corr\n",
    "    \n",
    "    def knn(self, item, k):\n",
    "        \"\"\"\n",
    "        item: item_id\n",
    "        k: number\n",
    "        \"\"\"\n",
    "        neighbours={}\n",
    "        i = 1\n",
    "        for item_id, item_data in self.dataset.items():\n",
    "            if item_id == item:\n",
    "                continue\n",
    "            corr = self.pearson_correlation(self.dataset[item], item_data)\n",
    "            neighbours[item_id] = corr\n",
    "            i+=1\n",
    "            \n",
    "        sort = sorted(neighbours.items(), key=lambda x: x[1], reverse = True)\n",
    "        knn = sort[:k]\n",
    "        knn_item_ids = [item_id for item_id, item_corr in knn]\n",
    "        return knn_item_ids\n",
    "    \n",
    "    def predict(self, item, user, knn):\n",
    "        \"\"\"\n",
    "        user: user_id\n",
    "        item: item_id\n",
    "        knn: knn_item_ids\n",
    "        \n",
    "        prediction = mean_rating_of_active_item + sum_over_knn(item_k_rating_by_user * pearson(item_k, active_item))/sum_over_knn(pearson(item_k, active_item))\n",
    "        \"\"\"\n",
    "        mean_item_rating = self.means[item]\n",
    "        iter_rating = 0.0\n",
    "        pear_corr = 0.0\n",
    "        for i, element in enumerate(knn):\n",
    "            temp_corr = self.pearson_correlation(self.dataset[item], self.dataset[element])\n",
    "            if math.isnan(temp_corr):\n",
    "                continue\n",
    "            if user in self.dataset[element].keys():\n",
    "                iter_rating += (self.dataset[element][user]-self.means[element]) * temp_corr\n",
    "            else:\n",
    "                iter_rating += 0\n",
    "            pear_corr += temp_corr\n",
    "                    \n",
    "        pred = mean_item_rating + iter_rating/pear_corr\n",
    "        print(\"Predicted rating for item \", str(item), \" by user \", str(user), \" is \", str(pred))\n",
    "        return pred    "
   ]
  },
  {
   "cell_type": "code",
   "execution_count": 140,
   "metadata": {},
   "outputs": [
    {
     "name": "stdout",
     "output_type": "stream",
     "text": [
      "KNN done\n",
      "Predicted rating for item  100  by user  100  is  3.22138517618469\n"
     ]
    },
    {
     "data": {
      "text/plain": [
       "3.22138517618469"
      ]
     },
     "execution_count": 140,
     "metadata": {},
     "output_type": "execute_result"
    }
   ],
   "source": [
    "iicf = itemItemBasedCF(item_ratings)\n",
    "knn = iicf.knn(100, 100)\n",
    "iicf.predict(100, 100, knn)"
   ]
  },
  {
   "cell_type": "code",
   "execution_count": 141,
   "metadata": {},
   "outputs": [],
   "source": [
    "class matrixfactorbasedCF(object):\n",
    "    def __init__(self):\n",
    "        pass"
   ]
  },
  {
   "cell_type": "code",
   "execution_count": null,
   "metadata": {},
   "outputs": [],
   "source": []
  },
  {
   "cell_type": "code",
   "execution_count": null,
   "metadata": {},
   "outputs": [],
   "source": []
  },
  {
   "cell_type": "code",
   "execution_count": null,
   "metadata": {},
   "outputs": [],
   "source": []
  }
 ],
 "metadata": {
  "kernelspec": {
   "display_name": "Python 3",
   "language": "python",
   "name": "python3"
  },
  "language_info": {
   "codemirror_mode": {
    "name": "ipython",
    "version": 3
   },
   "file_extension": ".py",
   "mimetype": "text/x-python",
   "name": "python",
   "nbconvert_exporter": "python",
   "pygments_lexer": "ipython3",
   "version": "3.6.5"
  }
 },
 "nbformat": 4,
 "nbformat_minor": 2
}
