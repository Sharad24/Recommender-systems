{
 "cells": [
  {
   "cell_type": "code",
   "execution_count": 1,
   "metadata": {},
   "outputs": [],
   "source": [
    "import numpy as np\n",
    "import pandas as pd"
   ]
  },
  {
   "cell_type": "code",
   "execution_count": 2,
   "metadata": {},
   "outputs": [],
   "source": [
    "scores = pd.read_csv('ml-20m/genome-scores.csv')\n",
    "g_tags = pd.read_csv('ml-20m/genome-tags.csv')\n",
    "links = pd.read_csv('ml-20m/links.csv')\n",
    "movies = pd.read_csv('ml-20m/movies.csv')\n",
    "ratings = pd.read_csv('ml-20m/ratings.csv')\n",
    "tags = pd.read_csv('ml-20m/tags.csv')"
   ]
  },
  {
   "cell_type": "code",
   "execution_count": 3,
   "metadata": {},
   "outputs": [],
   "source": [
    "import pymongo"
   ]
  },
  {
   "cell_type": "code",
   "execution_count": 4,
   "metadata": {},
   "outputs": [],
   "source": [
    "from pymongo import MongoClient\n",
    "client = MongoClient()"
   ]
  },
  {
   "cell_type": "code",
   "execution_count": 5,
   "metadata": {},
   "outputs": [
    {
     "data": {
      "text/plain": [
       "Database(MongoClient(host=['localhost:27017'], document_class=dict, tz_aware=False, connect=True), 'imdb_movies')"
      ]
     },
     "execution_count": 5,
     "metadata": {},
     "output_type": "execute_result"
    }
   ],
   "source": [
    "client.imdb_movies"
   ]
  },
  {
   "cell_type": "code",
   "execution_count": 6,
   "metadata": {},
   "outputs": [],
   "source": [
    "links.drop('tmdbId', inplace=True, axis=1)"
   ]
  },
  {
   "cell_type": "code",
   "execution_count": 7,
   "metadata": {},
   "outputs": [],
   "source": [
    "import urllib\n",
    "import bs4\n",
    "import requests\n",
    "from bs4 import BeautifulSoup"
   ]
  },
  {
   "cell_type": "code",
   "execution_count": 13,
   "metadata": {},
   "outputs": [
    {
     "data": {
      "text/plain": [
       "200"
      ]
     },
     "execution_count": 13,
     "metadata": {},
     "output_type": "execute_result"
    }
   ],
   "source": [
    "base_movie_url = \"https://www.imdb.com/title/tt0\"\n",
    "page = requests.get(base_movie_url + str(links['imdbId'].iloc[1]) + '/')\n",
    "page.status_code"
   ]
  },
  {
   "cell_type": "code",
   "execution_count": 14,
   "metadata": {},
   "outputs": [],
   "source": [
    "soup1 = BeautifulSoup(page.content, 'html.parser')"
   ]
  },
  {
   "cell_type": "code",
   "execution_count": 11,
   "metadata": {},
   "outputs": [],
   "source": [
    "def create_movie_data(movie_id):\n",
    "    page = requests.get(base_movie_url + movie_id + '/')\n",
    "    if page.status_code == 200:\n",
    "        soup = BeautifulSoup(page.content, 'html.parser')\n",
    "        movie = {}\n",
    "        movie[str(movie_id)] = {}\n",
    "        movie[str(movie_id)]['title'], movie[str(movie_id)]['release'] = get_title(soup)\n",
    "        movie[str(movie_id)]['thumbnail_addr'] = get_thumbnail_addr(soup)\n",
    "        \n",
    "        "
   ]
  },
  {
   "cell_type": "code",
   "execution_count": 12,
   "metadata": {},
   "outputs": [],
   "source": [
    "def get_title_and_release(soup):\n",
    "    title_year = soup.title.text\n",
    "    title_year = title_year[:-8]\n",
    "    year = title_year[-4:]\n",
    "    title = title_year[:-6]\n",
    "    return title, year"
   ]
  },
  {
   "cell_type": "code",
   "execution_count": 57,
   "metadata": {},
   "outputs": [],
   "source": [
    "def get_thumbnail_addr(soup):\n",
    "    scripts = soup.findAll('script')\n",
    "    for i, element in enumerate(scripts):\n",
    "        if \"application/ld+json\" in str(element):\n",
    "            json = element\n",
    "    json = str(json).split('\\n')\n",
    "    for i, element in enumerate(json):\n",
    "        if \"\\\"image\\\"\" in element:\n",
    "            image = element\n",
    "    image = image.split()[-1][1:-2]\n",
    "    return image"
   ]
  },
  {
   "cell_type": "code",
   "execution_count": 73,
   "metadata": {},
   "outputs": [],
   "source": [
    "genres = ['Adventure']\n",
    "for i in range(len(movies['genres'].iloc[:])):\n",
    "    temp_movie_genre = movies['genres'].iloc[i]\n",
    "    temp_movie_genre = temp_movie_genre.split('|')\n",
    "    for i, element in enumerate(temp_movie_genre):\n",
    "        if element not in genres:\n",
    "            genres.append(element)"
   ]
  },
  {
   "cell_type": "code",
   "execution_count": null,
   "metadata": {},
   "outputs": [],
   "source": [
    "#Getting 30 movies for each genre"
   ]
  },
  {
   "cell_type": "code",
   "execution_count": null,
   "metadata": {},
   "outputs": [],
   "source": [
    "def get_movies():\n",
    "    \"\"\"\n",
    "    Generates final movies given genres, movies dataframe and number_of_movies_for_each_genre\n",
    "    \"\"\""
   ]
  }
 ],
 "metadata": {
  "kernelspec": {
   "display_name": "Python 3",
   "language": "python",
   "name": "python3"
  },
  "language_info": {
   "codemirror_mode": {
    "name": "ipython",
    "version": 3
   },
   "file_extension": ".py",
   "mimetype": "text/x-python",
   "name": "python",
   "nbconvert_exporter": "python",
   "pygments_lexer": "ipython3",
   "version": "3.6.5"
  }
 },
 "nbformat": 4,
 "nbformat_minor": 2
}
