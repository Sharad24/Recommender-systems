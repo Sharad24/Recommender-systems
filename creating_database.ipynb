{
 "cells": [
  {
   "cell_type": "code",
   "execution_count": 1,
   "metadata": {},
   "outputs": [],
   "source": [
    "import numpy as np\n",
    "import pandas as pd"
   ]
  },
  {
   "cell_type": "code",
   "execution_count": 2,
   "metadata": {},
   "outputs": [],
   "source": [
    "#scores = pd.read_csv('ml-20m/genome-scores.csv')\n",
    "#g_tags = pd.read_csv('ml-20m/genome-tags.csv')\n",
    "#links = pd.read_csv('ml-20m/links.csv')\n",
    "#movies = pd.read_csv('ml-20m/movies.csv')\n",
    "ratings = pd.read_csv('ml-20m/ratings.csv')\n",
    "#tags = pd.read_csv('ml-20m/tags.csv')"
   ]
  },
  {
   "cell_type": "code",
   "execution_count": 14,
   "metadata": {},
   "outputs": [],
   "source": [
    "import pymongo"
   ]
  },
  {
   "cell_type": "code",
   "execution_count": 15,
   "metadata": {},
   "outputs": [],
   "source": [
    "from pymongo import MongoClient\n",
    "client = MongoClient()"
   ]
  },
  {
   "cell_type": "code",
   "execution_count": 16,
   "metadata": {},
   "outputs": [],
   "source": [
    "db1 = client.imdb_movies"
   ]
  },
  {
   "cell_type": "code",
   "execution_count": 54,
   "metadata": {},
   "outputs": [],
   "source": [
    "links.drop('tmdbId', inplace=True, axis=1)"
   ]
  },
  {
   "cell_type": "code",
   "execution_count": 45,
   "metadata": {},
   "outputs": [],
   "source": [
    "import urllib\n",
    "import bs4\n",
    "import requests\n",
    "from bs4 import BeautifulSoup"
   ]
  },
  {
   "cell_type": "code",
   "execution_count": 146,
   "metadata": {},
   "outputs": [],
   "source": [
    "base_movie_url = \"https://www.imdb.com/title/tt0\"\n",
    "#page = requests.get(base_movie_url + str(links['imdbId'].iloc[1]) + '/')\n",
    "#page.status_code\n",
    "base_movie_url2 = \"https://www.imdb.com/title/tt00\""
   ]
  },
  {
   "cell_type": "code",
   "execution_count": 14,
   "metadata": {},
   "outputs": [],
   "source": [
    "#soup1 = BeautifulSoup(page.content, 'html.parser')"
   ]
  },
  {
   "cell_type": "code",
   "execution_count": 173,
   "metadata": {},
   "outputs": [],
   "source": [
    "def create_movie_data(movie_id):\n",
    "    if int(movie_id) // 100000 == 0 and int(movie_id) // 10000 > 0:\n",
    "        page = requests.get(base_movie_url2 + movie_id + '/')\n",
    "    elif int(movie_id) // 1000000 == 0 and int(movie_id) // 100000 > 0:\n",
    "        page = requests.get(base_movie_url + movie_id + '/')\n",
    "    if page.status_code == 200:\n",
    "        print(\"Received successful page response\")\n",
    "        soup = BeautifulSoup(page.content, 'html.parser')\n",
    "        movie = {}\n",
    "        movie[str(movie_id)] = {}\n",
    "        movie[str(movie_id)]['title'], movie[str(movie_id)]['release'] = get_title_and_release(soup)\n",
    "        movie[str(movie_id)]['thumbnail_addr'] = get_thumbnail_addr(soup)\n",
    "    elif page.status_code == 404:\n",
    "        movie = {}\n",
    "        print(\"Received No Data\")\n",
    "    return movie\n",
    "        "
   ]
  },
  {
   "cell_type": "code",
   "execution_count": 48,
   "metadata": {},
   "outputs": [],
   "source": [
    "def get_title_and_release(soup):\n",
    "    title_year = soup.title.text\n",
    "    title_year = title_year[:-8]\n",
    "    year = title_year[-4:]\n",
    "    title = title_year[:-6]\n",
    "    return title, year"
   ]
  },
  {
   "cell_type": "code",
   "execution_count": 49,
   "metadata": {},
   "outputs": [],
   "source": [
    "def get_thumbnail_addr(soup):\n",
    "    scripts = soup.findAll('script')\n",
    "    for i, element in enumerate(scripts):\n",
    "        if \"application/ld+json\" in str(element):\n",
    "            json = element\n",
    "    json = str(json).split('\\n')\n",
    "    for i, element in enumerate(json):\n",
    "        if \"\\\"image\\\"\" in element:\n",
    "            image = element\n",
    "    image = image.split()[-1][1:-2]\n",
    "    return image"
   ]
  },
  {
   "cell_type": "code",
   "execution_count": 11,
   "metadata": {},
   "outputs": [],
   "source": [
    "genres = ['Adventure']\n",
    "for i in range(len(movies['genres'].iloc[:])):\n",
    "    temp_movie_genre = movies['genres'].iloc[i]\n",
    "    temp_movie_genre = temp_movie_genre.split('|')\n",
    "    for i, element in enumerate(temp_movie_genre):\n",
    "        if element not in genres:\n",
    "            genres.append(element)"
   ]
  },
  {
   "cell_type": "code",
   "execution_count": null,
   "metadata": {
    "collapsed": true
   },
   "outputs": [],
   "source": [
    "#Getting 30 movies for each genre\n",
    "movies.head()\n",
    "def get_genres(string):\n",
    "    return string.split('|')\n",
    "\n",
    "#get_genres(movies.iloc[0,2])\n",
    "\n",
    "movie_ids = []\n",
    "\n",
    "genre_count = dict(zip(genres, np.zeros(len(genres))))\n",
    "\n",
    "flag = 0\n",
    "for i in range(len(movies.iloc[:, 0])):\n",
    "    flag = 0\n",
    "    temp_movie = movies['title'].iloc[i]\n",
    "    temp_genres = get_genres(movies['genres'].iloc[i])\n",
    "    for j, element in enumerate(temp_genres):\n",
    "        print(element)\n",
    "        if genre_count[element] >= 15:\n",
    "            print('Flag is ', 1)\n",
    "            flag = 1\n",
    "        print('Flag is ', 0)\n",
    "    if flag == 1:\n",
    "        continue\n",
    "    else:\n",
    "        for j, element in enumerate(temp_genres):\n",
    "            genre_count[element] += 1\n",
    "        movie_ids.append(movies['movieId'].iloc[i])\n",
    "        print(\"New Movie added\")\n",
    "    "
   ]
  },
  {
   "cell_type": "code",
   "execution_count": 209,
   "metadata": {},
   "outputs": [],
   "source": [
    "def get_movies(movie_ids):\n",
    "    \"\"\"\n",
    "    Generates final movies given genres, movies dataframe and number_of_movies_for_each_genre\n",
    "    \"\"\"\n",
    "    movies = {}\n",
    "    for i, element in enumerate(movie_ids):\n",
    "        if i<86 or i in [123,172,175,178,180,181]:\n",
    "            continue\n",
    "        imdbId = str(links[links['movieId'] == int(element)]['imdbId'].iloc[0])\n",
    "        movie_data = create_movie_data(imdbId)\n",
    "        if len(movie_data[imdbId].items()) != 3:\n",
    "            print(\"Error at \", i)\n",
    "            continue\n",
    "        movies[str(element)] = movie_data[imdbId]\n",
    "        print(i + 1, \" done\")\n",
    "    return movies"
   ]
  },
  {
   "cell_type": "code",
   "execution_count": null,
   "metadata": {
    "collapsed": true
   },
   "outputs": [],
   "source": [
    "to_post1 = get_movies(movie_ids)"
   ]
  },
  {
   "cell_type": "code",
   "execution_count": 4,
   "metadata": {},
   "outputs": [],
   "source": [
    "db = client.imdb_movies"
   ]
  },
  {
   "cell_type": "code",
   "execution_count": 6,
   "metadata": {},
   "outputs": [],
   "source": [
    "post = db.post\n",
    "#post.insert_many(list(to_post.values()))"
   ]
  },
  {
   "cell_type": "code",
   "execution_count": 12,
   "metadata": {},
   "outputs": [
    {
     "name": "stdout",
     "output_type": "stream",
     "text": [
      "{'_id': ObjectId('5c634a5ce3c0160aef1e93fd'),\n",
      " 'release': '1995',\n",
      " 'thumbnail_addr': 'https://m.media-amazon.com/images/M/MV5BMDU2ZWJlMjktMTRhMy00ZTA5LWEzNDgtYmNmZTEwZTViZWJkXkEyXkFqcGdeQXVyNDQ2OTk4MzI@._V1_.jpg',\n",
      " 'title': 'Toy Story'}\n"
     ]
    }
   ],
   "source": [
    "#db.collection_names(include_system_collections=False)\n",
    "import pprint\n",
    "pprint.pprint(post.find_one())"
   ]
  },
  {
   "cell_type": "code",
   "execution_count": null,
   "metadata": {
    "collapsed": true
   },
   "outputs": [],
   "source": [
    "for temp in post.find():\n",
    "    pprint.pprint(temp)"
   ]
  },
  {
   "cell_type": "code",
   "execution_count": 6,
   "metadata": {},
   "outputs": [],
   "source": [
    "user_ratings = {}\n",
    "for k, v in ratings.groupby('userId'):\n",
    "    user_ratings[k] = dict(zip(v['movieId'].values, v['rating'].values))"
   ]
  },
  {
   "cell_type": "code",
   "execution_count": 18,
   "metadata": {},
   "outputs": [],
   "source": [
    "users = db1['users']"
   ]
  },
  {
   "cell_type": "code",
   "execution_count": 19,
   "metadata": {},
   "outputs": [],
   "source": [
    "i = 0\n",
    "for k, v in user_ratings.items():\n",
    "    to_post = {}\n",
    "    to_post['_id'] = k\n",
    "    for k2, v2 in v.items():\n",
    "        to_post[str(k2)] = v2\n",
    "    users.insert_one(to_post)"
   ]
  },
  {
   "cell_type": "code",
   "execution_count": 81,
   "metadata": {},
   "outputs": [
    {
     "name": "stdout",
     "output_type": "stream",
     "text": [
      "{'1': 5.0,\n",
      " '100': 5.0,\n",
      " '1012': 4.0,\n",
      " '1028': 4.0,\n",
      " '1030': 5.0,\n",
      " '1031': 4.0,\n",
      " '1035': 4.0,\n",
      " '1036': 5.0,\n",
      " '1038': 2.0,\n",
      " '104': 5.0,\n",
      " '1042': 4.0,\n",
      " '105': 2.0,\n",
      " '1073': 5.0,\n",
      " '1084': 5.0,\n",
      " '1088': 4.0,\n",
      " '1091': 4.0,\n",
      " '1092': 5.0,\n",
      " '1093': 3.0,\n",
      " '1095': 5.0,\n",
      " '11': 5.0,\n",
      " '1100': 4.0,\n",
      " '1101': 5.0,\n",
      " '1103': 5.0,\n",
      " '111': 5.0,\n",
      " '1120': 4.0,\n",
      " '1129': 4.0,\n",
      " '1135': 4.0,\n",
      " '1179': 5.0,\n",
      " '1183': 1.0,\n",
      " '1193': 5.0,\n",
      " '1197': 4.0,\n",
      " '1201': 5.0,\n",
      " '1206': 5.0,\n",
      " '1207': 4.0,\n",
      " '1213': 5.0,\n",
      " '1219': 5.0,\n",
      " '122': 4.0,\n",
      " '1220': 5.0,\n",
      " '1221': 4.0,\n",
      " '1222': 5.0,\n",
      " '1228': 4.0,\n",
      " '1234': 5.0,\n",
      " '1240': 4.0,\n",
      " '1247': 5.0,\n",
      " '1252': 5.0,\n",
      " '1256': 5.0,\n",
      " '1265': 5.0,\n",
      " '1267': 4.0,\n",
      " '1271': 5.0,\n",
      " '1278': 5.0,\n",
      " '1287': 4.0,\n",
      " '1290': 5.0,\n",
      " '1302': 5.0,\n",
      " '1304': 4.0,\n",
      " '1307': 5.0,\n",
      " '1333': 5.0,\n",
      " '1334': 4.0,\n",
      " '1340': 5.0,\n",
      " '1359': 3.0,\n",
      " '1370': 4.0,\n",
      " '1377': 4.0,\n",
      " '1380': 3.0,\n",
      " '1387': 4.0,\n",
      " '1393': 5.0,\n",
      " '14': 3.0,\n",
      " '1401': 3.0,\n",
      " '1431': 1.0,\n",
      " '1439': 5.0,\n",
      " '1441': 3.0,\n",
      " '1461': 3.0,\n",
      " '1466': 5.0,\n",
      " '1476': 5.0,\n",
      " '1485': 4.0,\n",
      " '150': 5.0,\n",
      " '1500': 4.0,\n",
      " '1501': 3.0,\n",
      " '153': 3.0,\n",
      " '1552': 5.0,\n",
      " '1556': 2.0,\n",
      " '1562': 3.0,\n",
      " '1566': 4.0,\n",
      " '1569': 3.0,\n",
      " '1573': 3.0,\n",
      " '1593': 4.0,\n",
      " '16': 5.0,\n",
      " '1608': 5.0,\n",
      " '1609': 4.0,\n",
      " '1617': 5.0,\n",
      " '165': 3.0,\n",
      " '1663': 5.0,\n",
      " '1667': 4.0,\n",
      " '1674': 5.0,\n",
      " '1678': 1.0,\n",
      " '1721': 4.0,\n",
      " '1777': 5.0,\n",
      " '1784': 4.0,\n",
      " '1863': 4.0,\n",
      " '19': 4.0,\n",
      " '1923': 5.0,\n",
      " '193': 5.0,\n",
      " '1944': 5.0,\n",
      " '1947': 5.0,\n",
      " '1954': 5.0,\n",
      " '1955': 5.0,\n",
      " '1956': 4.0,\n",
      " '1958': 5.0,\n",
      " '1961': 5.0,\n",
      " '1962': 5.0,\n",
      " '1964': 4.0,\n",
      " '1965': 3.0,\n",
      " '1968': 5.0,\n",
      " '1997': 3.0,\n",
      " '2000': 4.0,\n",
      " '2001': 4.0,\n",
      " '2011': 3.0,\n",
      " '2013': 4.0,\n",
      " '2015': 4.0,\n",
      " '2023': 3.0,\n",
      " '2053': 4.0,\n",
      " '2054': 4.0,\n",
      " '208': 1.0,\n",
      " '2081': 3.0,\n",
      " '2088': 5.0,\n",
      " '21': 4.0,\n",
      " '2100': 5.0,\n",
      " '2108': 4.0,\n",
      " '2109': 5.0,\n",
      " '2114': 5.0,\n",
      " '2121': 3.0,\n",
      " '2122': 1.0,\n",
      " '2124': 4.0,\n",
      " '2133': 5.0,\n",
      " '2134': 3.0,\n",
      " '2136': 4.0,\n",
      " '2144': 5.0,\n",
      " '2145': 5.0,\n",
      " '2146': 3.0,\n",
      " '216': 4.0,\n",
      " '2174': 5.0,\n",
      " '2186': 4.0,\n",
      " '2194': 5.0,\n",
      " '2240': 5.0,\n",
      " '2241': 5.0,\n",
      " '2245': 5.0,\n",
      " '2247': 5.0,\n",
      " '2248': 5.0,\n",
      " '2249': 5.0,\n",
      " '225': 5.0,\n",
      " '2252': 4.0,\n",
      " '2262': 5.0,\n",
      " '2266': 3.0,\n",
      " '2268': 5.0,\n",
      " '2269': 4.0,\n",
      " '2289': 4.0,\n",
      " '2291': 4.0,\n",
      " '2300': 5.0,\n",
      " '2302': 4.0,\n",
      " '231': 5.0,\n",
      " '2321': 3.0,\n",
      " '2335': 4.0,\n",
      " '2346': 5.0,\n",
      " '2351': 1.0,\n",
      " '2352': 4.0,\n",
      " '2355': 5.0,\n",
      " '2367': 3.0,\n",
      " '2369': 5.0,\n",
      " '2371': 3.0,\n",
      " '2374': 5.0,\n",
      " '2375': 3.0,\n",
      " '2378': 4.0,\n",
      " '24': 3.0,\n",
      " '2402': 3.0,\n",
      " '2403': 5.0,\n",
      " '2404': 3.0,\n",
      " '2406': 4.0,\n",
      " '2409': 4.0,\n",
      " '2410': 5.0,\n",
      " '2411': 3.0,\n",
      " '2412': 3.0,\n",
      " '2416': 5.0,\n",
      " '2418': 3.0,\n",
      " '2419': 4.0,\n",
      " '2420': 5.0,\n",
      " '2421': 4.0,\n",
      " '2422': 3.0,\n",
      " '2423': 4.0,\n",
      " '248': 4.0,\n",
      " '25': 4.0,\n",
      " '255': 5.0,\n",
      " '256': 4.0,\n",
      " '288': 4.0,\n",
      " '292': 3.0,\n",
      " '296': 5.0,\n",
      " '300': 5.0,\n",
      " '317': 4.0,\n",
      " '333': 5.0,\n",
      " '337': 5.0,\n",
      " '344': 5.0,\n",
      " '354': 5.0,\n",
      " '355': 3.0,\n",
      " '356': 5.0,\n",
      " '357': 2.0,\n",
      " '361': 5.0,\n",
      " '364': 5.0,\n",
      " '367': 5.0,\n",
      " '370': 5.0,\n",
      " '372': 4.0,\n",
      " '374': 3.0,\n",
      " '376': 4.0,\n",
      " '377': 5.0,\n",
      " '378': 3.0,\n",
      " '380': 5.0,\n",
      " '39': 4.0,\n",
      " '410': 4.0,\n",
      " '419': 4.0,\n",
      " '420': 4.0,\n",
      " '424': 5.0,\n",
      " '428': 5.0,\n",
      " '434': 5.0,\n",
      " '435': 5.0,\n",
      " '438': 4.0,\n",
      " '440': 5.0,\n",
      " '445': 2.0,\n",
      " '454': 5.0,\n",
      " '455': 1.0,\n",
      " '457': 5.0,\n",
      " '466': 3.0,\n",
      " '480': 3.0,\n",
      " '489': 3.0,\n",
      " '5': 3.0,\n",
      " '500': 4.0,\n",
      " '502': 1.0,\n",
      " '5060': 5.0,\n",
      " '508': 5.0,\n",
      " '511': 5.0,\n",
      " '524': 5.0,\n",
      " '527': 4.0,\n",
      " '528': 5.0,\n",
      " '539': 4.0,\n",
      " '569': 4.0,\n",
      " '57': 3.0,\n",
      " '585': 4.0,\n",
      " '586': 5.0,\n",
      " '587': 4.0,\n",
      " '589': 4.0,\n",
      " '592': 5.0,\n",
      " '593': 5.0,\n",
      " '595': 4.0,\n",
      " '597': 4.0,\n",
      " '6': 5.0,\n",
      " '603': 5.0,\n",
      " '605': 4.0,\n",
      " '608': 4.0,\n",
      " '661': 4.0,\n",
      " '7': 4.0,\n",
      " '733': 5.0,\n",
      " '75': 3.0,\n",
      " '783': 3.0,\n",
      " '784': 1.0,\n",
      " '785': 5.0,\n",
      " '788': 5.0,\n",
      " '818': 4.0,\n",
      " '830': 4.0,\n",
      " '833': 3.0,\n",
      " '852': 5.0,\n",
      " '858': 5.0,\n",
      " '902': 5.0,\n",
      " '905': 5.0,\n",
      " '908': 5.0,\n",
      " '913': 4.0,\n",
      " '914': 4.0,\n",
      " '919': 5.0,\n",
      " '920': 4.0,\n",
      " '923': 4.0,\n",
      " '948': 4.0,\n",
      " '949': 5.0,\n",
      " '953': 5.0,\n",
      " '_id': 83712}\n"
     ]
    }
   ],
   "source": [
    "import pprint\n",
    "for doc in users.find():\n",
    "    pprint.pprint(doc)\n",
    "    if 1:\n",
    "        break\n",
    "#import pickle\n",
    "#with open('to_post', 'rb') as file:\n",
    "#    movie_data = pickle.load(file)"
   ]
  },
  {
   "cell_type": "code",
   "execution_count": 27,
   "metadata": {},
   "outputs": [],
   "source": [
    "#pprint.pprint(users.find_one({'_id':1}))\n"
   ]
  },
  {
   "cell_type": "code",
   "execution_count": 34,
   "metadata": {},
   "outputs": [],
   "source": [
    "movie_ids = list(movie_data.keys())"
   ]
  },
  {
   "cell_type": "code",
   "execution_count": 45,
   "metadata": {},
   "outputs": [],
   "source": [
    "max_count = {}\n",
    "for k, v in user_ratings.items():\n",
    "    count = 0\n",
    "    #to_post = {}\n",
    "    #to_post['_id'] = k\n",
    "    for k2, v2 in v.items():\n",
    "        if str(k2) in movie_ids:\n",
    "            count+=1\n",
    "        #to_post[str(k2)] = v2\n",
    "    max_count[str(k)] = count"
   ]
  },
  {
   "cell_type": "code",
   "execution_count": 52,
   "metadata": {},
   "outputs": [],
   "source": [
    "sorted_count = sorted(max_count.items(), key = lambda x:x[1], reverse=True)"
   ]
  },
  {
   "cell_type": "code",
   "execution_count": 79,
   "metadata": {},
   "outputs": [],
   "source": [
    "to_post_users = dict(sorted_count[15000:15100])"
   ]
  },
  {
   "cell_type": "code",
   "execution_count": 80,
   "metadata": {},
   "outputs": [],
   "source": [
    "for k, v in user_ratings.items():\n",
    "    if str(k) in list(to_post_users.keys()):\n",
    "        to_post = {}\n",
    "        to_post['_id'] = k\n",
    "        for k2, v2 in v.items():\n",
    "            to_post[str(k2)] = v2\n",
    "        users.insert_one(to_post)"
   ]
  },
  {
   "cell_type": "code",
   "execution_count": null,
   "metadata": {},
   "outputs": [],
   "source": []
  }
 ],
 "metadata": {
  "kernelspec": {
   "display_name": "Python 3",
   "language": "python",
   "name": "python3"
  },
  "language_info": {
   "codemirror_mode": {
    "name": "ipython",
    "version": 3
   },
   "file_extension": ".py",
   "mimetype": "text/x-python",
   "name": "python",
   "nbconvert_exporter": "python",
   "pygments_lexer": "ipython3",
   "version": "3.6.5"
  }
 },
 "nbformat": 4,
 "nbformat_minor": 2
}
